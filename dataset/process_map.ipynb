{
 "cells": [
  {
   "cell_type": "code",
   "execution_count": 4,
   "metadata": {},
   "outputs": [],
   "source": [
    "output_file=open('./map_california.txt','w')\n",
    "with open('./calmap.txt','r') as f:\n",
    "    skip_flag=False\n",
    "    for line in f:\n",
    "        if skip_flag:\n",
    "            skip_flag=False\n",
    "            continue\n",
    "        line_list=line.split()\n",
    "        if int(line_list[-1])>0:\n",
    "            skip_flag=True\n",
    "        output_file.write(line_list[0]+\" \"+line_list[1]+\" \"+line_list[2]+\"\\n\")\n",
    "output_file.close()"
   ]
  },
  {
   "cell_type": "code",
   "execution_count": null,
   "metadata": {},
   "outputs": [],
   "source": []
  }
 ],
 "metadata": {
  "kernelspec": {
   "display_name": "Python 3",
   "language": "python",
   "name": "python3"
  },
  "language_info": {
   "codemirror_mode": {
    "name": "ipython",
    "version": 3
   },
   "file_extension": ".py",
   "mimetype": "text/x-python",
   "name": "python",
   "nbconvert_exporter": "python",
   "pygments_lexer": "ipython3",
   "version": "3.7.5"
  }
 },
 "nbformat": 4,
 "nbformat_minor": 2
}
